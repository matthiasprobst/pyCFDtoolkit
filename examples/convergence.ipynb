{
 "cells": [
  {
   "cell_type": "code",
   "execution_count": null,
   "id": "98c1276a-d608-479c-8a9e-3f365da4ea82",
   "metadata": {},
   "outputs": [],
   "source": [
    "import numpy as np\n",
    "from typing import List\n",
    "import matplotlib.pyplot as plt"
   ]
  },
  {
   "cell_type": "code",
   "execution_count": null,
   "id": "22cdb368-77bc-4def-9751-425a661b9dee",
   "metadata": {},
   "outputs": [],
   "source": [
    "def generate_signal(time, offset:float, tau0: float,\n",
    "                    amplitude:List[float], freq:List[float], phase:List[float], tau:List[float]):\n",
    "    s = offset*np.exp(tau0*time)\n",
    "    for a, f, p, t in zip(amplitude, freq, phase, tau):\n",
    "        s += a*np.sin(2*np.pi*f*time+p)*np.exp(t*time)\n",
    "    return s"
   ]
  },
  {
   "cell_type": "code",
   "execution_count": null,
   "id": "3f7b75ea-2fef-46d2-bb7e-d8fb928a16a2",
   "metadata": {},
   "outputs": [],
   "source": [
    "t = np.linspace(0, 40, 1001)\n",
    "s = generate_signal(t, 10, -0.2,\n",
    "                    [3, 2., 5], [50, 3, 1], [0.2, 0, 1.2], [-2, -0, -0.8])\n",
    "\n",
    "plt.figure()\n",
    "plt.plot(t, s)\n",
    "plt.xlabel('time')\n",
    "plt.ylabel('signal')\n",
    "plt.show()"
   ]
  },
  {
   "cell_type": "code",
   "execution_count": null,
   "id": "02c17b82-e3eb-465e-ac56-a8cfecd9477b",
   "metadata": {},
   "outputs": [],
   "source": [
    "from cfdtoolkit import convergence"
   ]
  },
  {
   "cell_type": "code",
   "execution_count": null,
   "id": "80f258d6-e347-4cd2-bebd-593a95da09f0",
   "metadata": {},
   "outputs": [],
   "source": [
    "plt.plot(t, convergence.running_mean(s))\n",
    "plt.plot(t, convergence.running_std(s, axis=0))"
   ]
  },
  {
   "cell_type": "code",
   "execution_count": null,
   "id": "7db4f0d5-30df-4927-8a84-a86a92f00cd1",
   "metadata": {},
   "outputs": [],
   "source": []
  }
 ],
 "metadata": {
  "kernelspec": {
   "display_name": "Python 3 (ipykernel)",
   "language": "python",
   "name": "python3"
  },
  "language_info": {
   "codemirror_mode": {
    "name": "ipython",
    "version": 3
   },
   "file_extension": ".py",
   "mimetype": "text/x-python",
   "name": "python",
   "nbconvert_exporter": "python",
   "pygments_lexer": "ipython3",
   "version": "3.8.13"
  }
 },
 "nbformat": 4,
 "nbformat_minor": 5
}
