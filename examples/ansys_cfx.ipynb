{
 "cells": [
  {
   "cell_type": "markdown",
   "id": "4ada66ec-2d4d-4609-9b1d-bd2f6a744d2c",
   "metadata": {},
   "source": [
    "# py CFDtoolbox - Module Ansys-CFX"
   ]
  },
  {
   "cell_type": "markdown",
   "id": "06e0b315-e61e-4aae-a545-e8301b1c52f9",
   "metadata": {},
   "source": [
    "## Getting started\n",
    "\n",
    "First, define the ansys cfx exe files in the `cfx.env` file located on the `.config` folder:"
   ]
  },
  {
   "cell_type": "code",
   "execution_count": null,
   "id": "a4e767a7-0995-4450-944a-6bf54c7aec2c",
   "metadata": {},
   "outputs": [],
   "source": [
    "from cfdtoolbox.cfx.case import CFXCase\n",
    "from cfdtoolbox import CFX_DOTENV_FILENAME\n",
    "CFX_DOTENV_FILENAME"
   ]
  },
  {
   "cell_type": "markdown",
   "id": "7f12b87c-7a0f-49ab-ac4b-e1d6dcfc2c6d",
   "metadata": {},
   "source": [
    "If not yet used (to be insert into setup.py)"
   ]
  },
  {
   "cell_type": "code",
   "execution_count": null,
   "id": "99830080-2839-4b1b-b02e-cdd4f2698e38",
   "metadata": {},
   "outputs": [],
   "source": [
    "from cfdtoolbox import _write_dot_env_file, _make_user_config_dir, USER_CONFIG_DIR\n",
    "_make_user_config_dir()\n",
    "_write_dot_env_file(overwrite=True)"
   ]
  },
  {
   "cell_type": "markdown",
   "id": "9d4f6623-4b73-4547-8850-6436e7948273",
   "metadata": {},
   "source": [
    "## Steady-state CFX Case\n",
    "\n",
    "A `CFXCase` is initialized with the `.cfx` file. The solver file (`.def`-file) is automatically detected as well as the `.res`-files if available."
   ]
  },
  {
   "cell_type": "code",
   "execution_count": null,
   "id": "3ad06b17-2fd9-4c70-bab9-79f7f5e6a6a6",
   "metadata": {},
   "outputs": [],
   "source": [
    "case_steady = CFXCase('/home/ws/ht72/AnsysCFX/stud42/simpleRotor/test/simpleRotor_mesh0_frz.cfx')\n",
    "case_steady"
   ]
  },
  {
   "cell_type": "code",
   "execution_count": null,
   "id": "20b10783-334a-442e-b780-9ea514c572b9",
   "metadata": {},
   "outputs": [],
   "source": [
    "case_steady.working_dir"
   ]
  },
  {
   "cell_type": "code",
   "execution_count": null,
   "id": "7eba6c8a-c3c8-47a3-bb1d-1e64bfbfed08",
   "metadata": {},
   "outputs": [],
   "source": [
    "case_steady.def_file"
   ]
  },
  {
   "cell_type": "code",
   "execution_count": null,
   "id": "dcc50a81-6701-4415-95e8-dff3508738a5",
   "metadata": {},
   "outputs": [],
   "source": [
    "if len(case_steady.res_files) > 0:\n",
    "    case_steady.reset()"
   ]
  },
  {
   "cell_type": "markdown",
   "id": "38ad43be-41bd-42ec-b37a-ce8f16939541",
   "metadata": {},
   "source": [
    "### Starting a case\n",
    "A case can be started from any other initial result file or from none. The number of processors to be used and the clock time can be passed as arguments. `start()` will return the command line that was constructed and executed.\n",
    "\n",
    "Note, that when passing `wait=True` python calls the CFX solver and waits until it finishes. Only after that the next python command can be executed."
   ]
  },
  {
   "cell_type": "code",
   "execution_count": null,
   "id": "fa8c4c9d-bae0-4a34-b7f8-1d0b150bac0c",
   "metadata": {},
   "outputs": [],
   "source": [
    "case_steady.start(initial_result_file=None, nproc=2, timeout=10, wait=True)"
   ]
  },
  {
   "cell_type": "markdown",
   "id": "8282337a-b08c-4eb6-b17a-49c64c2b87ca",
   "metadata": {},
   "source": [
    "### Stopping a case\n",
    "You can call `.stop()` from your `CFXCase` instance to stop the run(s). This will btw. stop all running cases in the working directory!"
   ]
  },
  {
   "cell_type": "code",
   "execution_count": null,
   "id": "0348fa73-04cf-4f03-b475-1e6d2607c9fa",
   "metadata": {},
   "outputs": [],
   "source": [
    "case_steady.stop()  # touches a file \"stp\" in the *.dir directory if exists"
   ]
  },
  {
   "cell_type": "markdown",
   "id": "d810b3b2-0a50-4dc4-b96d-2c8a85ea9b51",
   "metadata": {},
   "source": [
    "## Monitor Points\n",
    "\n",
    "User points are very helpful to analyze the runs"
   ]
  },
  {
   "cell_type": "markdown",
   "id": "933aa79b-9409-4df6-b78f-182386b0ac8d",
   "metadata": {},
   "source": [
    "### User Points\n",
    "\n",
    "The example case has some user points registered which can be requested by calling the `Monitor` instance of e.g. the lates result file:"
   ]
  },
  {
   "cell_type": "code",
   "execution_count": null,
   "id": "da18af17-38a8-4419-bdfd-3b21a70f9e56",
   "metadata": {},
   "outputs": [],
   "source": [
    "case_steady.latest.monitor.user_points.keys()"
   ]
  },
  {
   "cell_type": "markdown",
   "id": "f90b4467-145e-491c-90d4-b930cdb866dd",
   "metadata": {},
   "source": [
    "## Transient cases\n",
    "\n",
    "Transient cases are not treated differnlty than steady cases. You just have more options to set or to manipulate. How to controll the settings is shown later"
   ]
  },
  {
   "cell_type": "code",
   "execution_count": null,
   "id": "1e607334-560a-444b-be12-b1d962b17c97",
   "metadata": {},
   "outputs": [],
   "source": [
    "case_transient = CFXCase('/home/ws/ht72/AnsysCFX/stud42/simpleRotor/test/simpleRotor_mesh0_trn.cfx')"
   ]
  },
  {
   "cell_type": "code",
   "execution_count": null,
   "id": "c06f0e8c-5db0-49aa-9674-6309777ccd57",
   "metadata": {},
   "outputs": [],
   "source": [
    "case_transient.filename"
   ]
  },
  {
   "cell_type": "code",
   "execution_count": null,
   "id": "6e7d019b-758a-431d-8306-371c1ec250a0",
   "metadata": {},
   "outputs": [],
   "source": [
    "case_steady.latest.filename"
   ]
  },
  {
   "cell_type": "markdown",
   "id": "d854a542-3d5a-4980-a621-5b5110d1e6ef",
   "metadata": {},
   "source": [
    "## Controll and change case settings\n",
    "\n",
    "The following shows how to set and read various options in your case file."
   ]
  },
  {
   "cell_type": "code",
   "execution_count": null,
   "id": "377a1c87-a05f-468b-b168-45eae9f33237",
   "metadata": {},
   "outputs": [],
   "source": [
    "case_transient.timestep"
   ]
  },
  {
   "cell_type": "code",
   "execution_count": null,
   "id": "6798d1d8-9af6-4396-9ba7-b1df824a86b4",
   "metadata": {},
   "outputs": [],
   "source": []
  }
 ],
 "metadata": {
  "kernelspec": {
   "display_name": "Python 3",
   "language": "python",
   "name": "python3"
  },
  "language_info": {
   "codemirror_mode": {
    "name": "ipython",
    "version": 3
   },
   "file_extension": ".py",
   "mimetype": "text/x-python",
   "name": "python",
   "nbconvert_exporter": "python",
   "pygments_lexer": "ipython3",
   "version": "3.8.8"
  }
 },
 "nbformat": 4,
 "nbformat_minor": 5
}
