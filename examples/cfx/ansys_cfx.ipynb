{
 "cells": [
  {
   "cell_type": "markdown",
   "id": "4ada66ec-2d4d-4609-9b1d-bd2f6a744d2c",
   "metadata": {},
   "source": [
    "# Managing Ansys-CFX cases"
   ]
  },
  {
   "cell_type": "code",
   "execution_count": 1,
   "id": "a4e767a7-0995-4450-944a-6bf54c7aec2c",
   "metadata": {},
   "outputs": [],
   "source": [
    "from cfdtoolkit.cfx.case import CFXCase\n",
    "from cfdtoolkit import set_loglevel\n",
    "set_loglevel('INFO')"
   ]
  },
  {
   "cell_type": "markdown",
   "id": "9d4f6623-4b73-4547-8850-6436e7948273",
   "metadata": {},
   "source": [
    "## Steady-state CFX Case\n",
    "\n",
    "A `CFXCase` is initialized with the `.cfx` file. The solver file (`.def`-file) is automatically detected as well as the `.res`-files if available."
   ]
  },
  {
   "cell_type": "code",
   "execution_count": 2,
   "id": "3ad06b17-2fd9-4c70-bab9-79f7f5e6a6a6",
   "metadata": {
    "tags": []
   },
   "outputs": [
    {
     "ename": "FileNotFoundError",
     "evalue": "[WinError 3] Das System kann den angegebenen Pfad nicht finden: 'C:\\\\Users\\\\da4323\\\\Documents\\\\programming\\\\git\\\\pyCFDtoolkit\\\\examples\\\\testdata\\\\cylinderflow\\\\.cfdtoolbox'",
     "output_type": "error",
     "traceback": [
      "\u001b[1;31m---------------------------------------------------------------------------\u001b[0m",
      "\u001b[1;31mFileNotFoundError\u001b[0m                         Traceback (most recent call last)",
      "\u001b[1;32m~\\AppData\\Local\\Temp\\ipykernel_7780\\330565635.py\u001b[0m in \u001b[0;36m<module>\u001b[1;34m\u001b[0m\n\u001b[1;32m----> 1\u001b[1;33m \u001b[0mcase_steady\u001b[0m \u001b[1;33m=\u001b[0m \u001b[0mCFXCase\u001b[0m\u001b[1;33m(\u001b[0m\u001b[1;34m'../testdata/cylinderflow/cyl_steadystate_laminar.cfx'\u001b[0m\u001b[1;33m)\u001b[0m\u001b[1;33m\u001b[0m\u001b[1;33m\u001b[0m\u001b[0m\n\u001b[0m\u001b[0;32m      2\u001b[0m \u001b[0mcase_steady\u001b[0m\u001b[1;33m\u001b[0m\u001b[1;33m\u001b[0m\u001b[0m\n",
      "\u001b[1;32mc:\\users\\da4323\\documents\\programming\\git\\pycfdtoolkit\\cfdtoolkit\\cfx\\case.py\u001b[0m in \u001b[0;36m__init__\u001b[1;34m(self, filename)\u001b[0m\n",
      "\u001b[1;32mc:\\users\\da4323\\documents\\programming\\git\\pycfdtoolkit\\cfdtoolkit\\cfx\\case.py\u001b[0m in \u001b[0;36m__post_init__\u001b[1;34m(self)\u001b[0m\n\u001b[0;32m    154\u001b[0m         \u001b[0mone\u001b[0m \u001b[0mfolder\u001b[0m\u001b[1;33m,\u001b[0m \u001b[0me\u001b[0m\u001b[1;33m.\u001b[0m\u001b[0mg\u001b[0m\u001b[1;33m.\u001b[0m \u001b[1;33m*\u001b[0m\u001b[1;33m.\u001b[0m\u001b[0m_frz\u001b[0m\u001b[1;33m,\u001b[0m \u001b[1;33m*\u001b[0m\u001b[0m_trn\u001b[0m\u001b[1;33m.\u001b[0m\u001b[0mcfx\u001b[0m\u001b[1;33m\u001b[0m\u001b[1;33m\u001b[0m\u001b[0m\n\u001b[0;32m    155\u001b[0m         \"\"\"\n\u001b[1;32m--> 156\u001b[1;33m         \u001b[0msuper\u001b[0m\u001b[1;33m(\u001b[0m\u001b[1;33m)\u001b[0m\u001b[1;33m.\u001b[0m\u001b[0m__post_init__\u001b[0m\u001b[1;33m(\u001b[0m\u001b[1;33m)\u001b[0m\u001b[1;33m\u001b[0m\u001b[1;33m\u001b[0m\u001b[0m\n\u001b[0m\u001b[0;32m    157\u001b[0m         \u001b[0mself\u001b[0m\u001b[1;33m.\u001b[0m\u001b[0mupdate\u001b[0m\u001b[1;33m(\u001b[0m\u001b[1;33m)\u001b[0m\u001b[1;33m\u001b[0m\u001b[1;33m\u001b[0m\u001b[0m\n\u001b[0;32m    158\u001b[0m \u001b[1;33m\u001b[0m\u001b[0m\n",
      "\u001b[1;32mc:\\users\\da4323\\documents\\programming\\git\\pycfdtoolkit\\cfdtoolkit\\cfx\\core.py\u001b[0m in \u001b[0;36m__post_init__\u001b[1;34m(self)\u001b[0m\n\u001b[0;32m     44\u001b[0m             \u001b[0mself\u001b[0m\u001b[1;33m.\u001b[0m\u001b[0maux_dir\u001b[0m \u001b[1;33m=\u001b[0m \u001b[0mself\u001b[0m\u001b[1;33m.\u001b[0m\u001b[0mworking_dir\u001b[0m\u001b[1;33m.\u001b[0m\u001b[0mjoinpath\u001b[0m\u001b[1;33m(\u001b[0m\u001b[1;34mf'.cfdtoolbox'\u001b[0m\u001b[1;33m)\u001b[0m\u001b[1;33m\u001b[0m\u001b[1;33m\u001b[0m\u001b[0m\n\u001b[0;32m     45\u001b[0m         \u001b[1;32mif\u001b[0m \u001b[1;32mnot\u001b[0m \u001b[0mself\u001b[0m\u001b[1;33m.\u001b[0m\u001b[0maux_dir\u001b[0m\u001b[1;33m.\u001b[0m\u001b[0mexists\u001b[0m\u001b[1;33m(\u001b[0m\u001b[1;33m)\u001b[0m\u001b[1;33m:\u001b[0m\u001b[1;33m\u001b[0m\u001b[1;33m\u001b[0m\u001b[0m\n\u001b[1;32m---> 46\u001b[1;33m             \u001b[0mself\u001b[0m\u001b[1;33m.\u001b[0m\u001b[0maux_dir\u001b[0m\u001b[1;33m.\u001b[0m\u001b[0mmkdir\u001b[0m\u001b[1;33m(\u001b[0m\u001b[1;33m)\u001b[0m\u001b[1;33m\u001b[0m\u001b[1;33m\u001b[0m\u001b[0m\n\u001b[0m\u001b[0;32m     47\u001b[0m \u001b[1;33m\u001b[0m\u001b[0m\n\u001b[0;32m     48\u001b[0m \u001b[1;33m\u001b[0m\u001b[0m\n",
      "\u001b[1;32m~\\AppData\\Local\\Programs\\Python\\Python37\\lib\\pathlib.py\u001b[0m in \u001b[0;36mmkdir\u001b[1;34m(self, mode, parents, exist_ok)\u001b[0m\n\u001b[0;32m   1271\u001b[0m             \u001b[0mself\u001b[0m\u001b[1;33m.\u001b[0m\u001b[0m_raise_closed\u001b[0m\u001b[1;33m(\u001b[0m\u001b[1;33m)\u001b[0m\u001b[1;33m\u001b[0m\u001b[1;33m\u001b[0m\u001b[0m\n\u001b[0;32m   1272\u001b[0m         \u001b[1;32mtry\u001b[0m\u001b[1;33m:\u001b[0m\u001b[1;33m\u001b[0m\u001b[1;33m\u001b[0m\u001b[0m\n\u001b[1;32m-> 1273\u001b[1;33m             \u001b[0mself\u001b[0m\u001b[1;33m.\u001b[0m\u001b[0m_accessor\u001b[0m\u001b[1;33m.\u001b[0m\u001b[0mmkdir\u001b[0m\u001b[1;33m(\u001b[0m\u001b[0mself\u001b[0m\u001b[1;33m,\u001b[0m \u001b[0mmode\u001b[0m\u001b[1;33m)\u001b[0m\u001b[1;33m\u001b[0m\u001b[1;33m\u001b[0m\u001b[0m\n\u001b[0m\u001b[0;32m   1274\u001b[0m         \u001b[1;32mexcept\u001b[0m \u001b[0mFileNotFoundError\u001b[0m\u001b[1;33m:\u001b[0m\u001b[1;33m\u001b[0m\u001b[1;33m\u001b[0m\u001b[0m\n\u001b[0;32m   1275\u001b[0m             \u001b[1;32mif\u001b[0m \u001b[1;32mnot\u001b[0m \u001b[0mparents\u001b[0m \u001b[1;32mor\u001b[0m \u001b[0mself\u001b[0m\u001b[1;33m.\u001b[0m\u001b[0mparent\u001b[0m \u001b[1;33m==\u001b[0m \u001b[0mself\u001b[0m\u001b[1;33m:\u001b[0m\u001b[1;33m\u001b[0m\u001b[1;33m\u001b[0m\u001b[0m\n",
      "\u001b[1;31mFileNotFoundError\u001b[0m: [WinError 3] Das System kann den angegebenen Pfad nicht finden: 'C:\\\\Users\\\\da4323\\\\Documents\\\\programming\\\\git\\\\pyCFDtoolkit\\\\examples\\\\testdata\\\\cylinderflow\\\\.cfdtoolbox'"
     ]
    }
   ],
   "source": [
    "case_steady = CFXCase('../testdata/cylinderflow/cyl_steadystate_laminar.cfx')\n",
    "case_steady"
   ]
  },
  {
   "cell_type": "code",
   "execution_count": null,
   "id": "20b10783-334a-442e-b780-9ea514c572b9",
   "metadata": {},
   "outputs": [],
   "source": [
    "case_steady.working_dir"
   ]
  },
  {
   "cell_type": "code",
   "execution_count": null,
   "id": "7eba6c8a-c3c8-47a3-bb1d-1e64bfbfed08",
   "metadata": {},
   "outputs": [],
   "source": [
    "case_steady.def_file"
   ]
  },
  {
   "cell_type": "code",
   "execution_count": null,
   "id": "dcc50a81-6701-4415-95e8-dff3508738a5",
   "metadata": {},
   "outputs": [],
   "source": [
    "if len(case_steady.res_files) > 0:\n",
    "    case_steady.reset()"
   ]
  },
  {
   "cell_type": "markdown",
   "id": "454bcbbd-da38-4c88-a0bf-60e61d06d8cb",
   "metadata": {},
   "source": [
    "### Renaming a case"
   ]
  },
  {
   "cell_type": "code",
   "execution_count": null,
   "id": "9c94a300-479b-4804-abf0-f899a186c879",
   "metadata": {},
   "outputs": [],
   "source": [
    "case_steady.working_dir"
   ]
  },
  {
   "cell_type": "code",
   "execution_count": null,
   "id": "4bee0532-324a-45f8-b13e-5d1315d554d1",
   "metadata": {},
   "outputs": [],
   "source": [
    "case_steady.rename('tmp/cylinder_case')"
   ]
  },
  {
   "cell_type": "code",
   "execution_count": null,
   "id": "8daebf82-7acf-473b-8ad5-6a55862b1442",
   "metadata": {},
   "outputs": [],
   "source": [
    "case_steady.rename('../cyl_steadystate_laminar')"
   ]
  },
  {
   "cell_type": "code",
   "execution_count": null,
   "id": "e9a2bb0d-31ef-46b0-bf4e-3629924680bf",
   "metadata": {},
   "outputs": [],
   "source": [
    "case_steady.filename"
   ]
  },
  {
   "cell_type": "code",
   "execution_count": null,
   "id": "c86259d8-74e0-4885-a92c-ba81e83596e1",
   "metadata": {
    "tags": []
   },
   "outputs": [],
   "source": [
    "case_steady.copy('tmp/cylinder_case')"
   ]
  },
  {
   "cell_type": "markdown",
   "id": "38ad43be-41bd-42ec-b37a-ce8f16939541",
   "metadata": {},
   "source": [
    "### Starting a case\n",
    "A case can be started from any other initial result file or from none. The number of processors to be used and the clock time can be passed as arguments. `start()` will return the command line that was constructed and executed.\n",
    "\n",
    "Note, that when passing `wait=True` python calls the CFX solver and waits until it finishes. Only after that the next python command can be executed."
   ]
  },
  {
   "cell_type": "code",
   "execution_count": null,
   "id": "fa8c4c9d-bae0-4a34-b7f8-1d0b150bac0c",
   "metadata": {},
   "outputs": [],
   "source": [
    "if True:\n",
    "    case_steady.start(initial_result_file=None, nproc=2, timeout=20, wait=False)"
   ]
  },
  {
   "cell_type": "markdown",
   "id": "8282337a-b08c-4eb6-b17a-49c64c2b87ca",
   "metadata": {},
   "source": [
    "### Stopping a case\n",
    "You can call `.stop()` from your `CFXCase` instance to stop the run(s). This will btw. stop all running cases in the working directory!"
   ]
  },
  {
   "cell_type": "code",
   "execution_count": null,
   "id": "0348fa73-04cf-4f03-b475-1e6d2607c9fa",
   "metadata": {},
   "outputs": [],
   "source": [
    "case_steady.stop()  # touches a file \"stp\" in the *.dir directory if exists"
   ]
  },
  {
   "cell_type": "markdown",
   "id": "d810b3b2-0a50-4dc4-b96d-2c8a85ea9b51",
   "metadata": {},
   "source": [
    "## Monitor Points\n",
    "\n",
    "User points are very helpful to analyze the runs"
   ]
  },
  {
   "cell_type": "markdown",
   "id": "933aa79b-9409-4df6-b78f-182386b0ac8d",
   "metadata": {},
   "source": [
    "### User Points\n",
    "\n",
    "The example case has some user points registered which can be requested by calling the `Monitor` instance of e.g. the lates result file:"
   ]
  },
  {
   "cell_type": "code",
   "execution_count": null,
   "id": "da18af17-38a8-4419-bdfd-3b21a70f9e56",
   "metadata": {},
   "outputs": [],
   "source": [
    "if case_steady.latest:\n",
    "    print(case_steady.latest.monitor.user_points.keys())"
   ]
  },
  {
   "cell_type": "markdown",
   "id": "9449e700-d9c2-4885-bccb-bc57316204c4",
   "metadata": {
    "tags": []
   },
   "source": [
    "## Controll and change case settings\n",
    "\n",
    "The following shows how to set and read various options in your case file."
   ]
  },
  {
   "cell_type": "code",
   "execution_count": null,
   "id": "377a1c87-a05f-468b-b168-45eae9f33237",
   "metadata": {},
   "outputs": [],
   "source": [
    "case_steady.ccl"
   ]
  },
  {
   "cell_type": "code",
   "execution_count": null,
   "id": "6798d1d8-9af6-4396-9ba7-b1df824a86b4",
   "metadata": {},
   "outputs": [],
   "source": [
    "case_steady.ccl.flow[0].domains[0].get_boundary_type('inlet').dump()"
   ]
  },
  {
   "cell_type": "code",
   "execution_count": null,
   "id": "430556b4-0081-4533-baca-2064980eed63",
   "metadata": {},
   "outputs": [],
   "source": [
    "case_steady.ccl.to_ccl('test.ccl')"
   ]
  },
  {
   "cell_type": "code",
   "execution_count": null,
   "id": "4c3e3dc5-0503-4583-b931-7989f4ae524f",
   "metadata": {},
   "outputs": [],
   "source": [
    "case_steady.import_ccl()"
   ]
  },
  {
   "cell_type": "code",
   "execution_count": null,
   "id": "9b7e31ef-82c9-46f5-bb92-d0cd04460c4c",
   "metadata": {},
   "outputs": [],
   "source": [
    "case_steady.ccl.flow[0].domains[0].get_boundary_type('inlet').dump()"
   ]
  },
  {
   "cell_type": "markdown",
   "id": "2a1c16c2-3fbd-4716-89b5-ced07728f3fb",
   "metadata": {},
   "source": [
    "### Setting a new boundary condition"
   ]
  },
  {
   "cell_type": "code",
   "execution_count": null,
   "id": "1add2c4f-6b6e-44a5-80a8-3d1c6aaa5830",
   "metadata": {},
   "outputs": [],
   "source": [
    "from cfdtoolbox.cfx.boundary_conditions.inlet import NormalSpeed"
   ]
  },
  {
   "cell_type": "code",
   "execution_count": null,
   "id": "7502269b-797a-4eeb-ba33-ad5c8ffa6c67",
   "metadata": {},
   "outputs": [],
   "source": [
    "inlet = case_steady.ccl.flow[0].domains[0].get_boundary_type('inlet')"
   ]
  },
  {
   "cell_type": "code",
   "execution_count": null,
   "id": "8b85e285-9dda-4190-ad76-9858c4c94499",
   "metadata": {},
   "outputs": [],
   "source": [
    "inlet.condition = NormalSpeed(flow_regime='Subsonic', normal_speed=1)"
   ]
  },
  {
   "cell_type": "code",
   "execution_count": null,
   "id": "27166071-f99d-4bed-b051-688a29644d4e",
   "metadata": {},
   "outputs": [],
   "source": [
    "inlet.condition"
   ]
  },
  {
   "cell_type": "code",
   "execution_count": null,
   "id": "064e4632-0ba5-4208-8c26-1f9d45a95962",
   "metadata": {},
   "outputs": [],
   "source": [
    "case_steady.ccl.flow[0].domains[0].get_boundary_type('inlet').dump()"
   ]
  },
  {
   "cell_type": "code",
   "execution_count": null,
   "id": "b7a84373-b920-4d0c-93f3-3bc59a858bb2",
   "metadata": {},
   "outputs": [],
   "source": [
    "case_steady.def_file.update()"
   ]
  },
  {
   "cell_type": "markdown",
   "id": "f90b4467-145e-491c-90d4-b930cdb866dd",
   "metadata": {},
   "source": [
    "## Transient cases\n",
    "\n",
    "Transient cases are not treated differnlty than steady cases. You just have more options to set or to manipulate. How to controll the settings is shown later"
   ]
  },
  {
   "cell_type": "code",
   "execution_count": null,
   "id": "1e607334-560a-444b-be12-b1d962b17c97",
   "metadata": {},
   "outputs": [],
   "source": [
    "# case_transient = CFXCase('../testdata/simpleRotor/simpleRotor_mesh0_trn.cfx')"
   ]
  },
  {
   "cell_type": "code",
   "execution_count": null,
   "id": "c06f0e8c-5db0-49aa-9674-6309777ccd57",
   "metadata": {},
   "outputs": [],
   "source": [
    "# case_transient.filename"
   ]
  },
  {
   "cell_type": "code",
   "execution_count": null,
   "id": "6e7d019b-758a-431d-8306-371c1ec250a0",
   "metadata": {},
   "outputs": [],
   "source": [
    "# if case_steady.latest:\n",
    "#     case_steady.latest.filename"
   ]
  },
  {
   "cell_type": "code",
   "execution_count": null,
   "id": "06ba5864-177b-4bcd-83ed-853a7bf4478a",
   "metadata": {},
   "outputs": [],
   "source": []
  }
 ],
 "metadata": {
  "kernelspec": {
   "display_name": "Python 3 (ipykernel)",
   "language": "python",
   "name": "python3"
  },
  "language_info": {
   "codemirror_mode": {
    "name": "ipython",
    "version": 3
   },
   "file_extension": ".py",
   "mimetype": "text/x-python",
   "name": "python",
   "nbconvert_exporter": "python",
   "pygments_lexer": "ipython3",
   "version": "3.7.9"
  }
 },
 "nbformat": 4,
 "nbformat_minor": 5
}
