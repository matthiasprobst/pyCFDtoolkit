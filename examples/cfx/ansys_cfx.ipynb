{
 "cells": [
  {
   "cell_type": "markdown",
   "id": "4ada66ec-2d4d-4609-9b1d-bd2f6a744d2c",
   "metadata": {},
   "source": [
    "# Managing Ansys-CFX cases"
   ]
  },
  {
   "cell_type": "code",
   "execution_count": null,
   "id": "a4e767a7-0995-4450-944a-6bf54c7aec2c",
   "metadata": {},
   "outputs": [],
   "source": [
    "from cfdtoolkit.cfx.case import CFXCase\n",
    "from cfdtoolkit import set_loglevel\n",
    "set_loglevel('INFO')"
   ]
  },
  {
   "cell_type": "markdown",
   "id": "9d4f6623-4b73-4547-8850-6436e7948273",
   "metadata": {},
   "source": [
    "## Steady-state CFX Case\n",
    "\n",
    "A `CFXCase` is initialized with the `.cfx` file. The solver file (`.def`-file) is automatically detected as well as the `.res`-files if available."
   ]
  },
  {
   "cell_type": "code",
   "execution_count": null,
   "id": "3ad06b17-2fd9-4c70-bab9-79f7f5e6a6a6",
   "metadata": {
    "tags": []
   },
   "outputs": [],
   "source": [
    "case_steady = CFXCase('../../testdata/cylinderflow/cyl_steadystate_laminar.cfx')\n",
    "case_steady"
   ]
  },
  {
   "cell_type": "code",
   "execution_count": null,
   "id": "20b10783-334a-442e-b780-9ea514c572b9",
   "metadata": {},
   "outputs": [],
   "source": [
    "case_steady.working_dir"
   ]
  },
  {
   "cell_type": "code",
   "execution_count": null,
   "id": "7eba6c8a-c3c8-47a3-bb1d-1e64bfbfed08",
   "metadata": {},
   "outputs": [],
   "source": [
    "case_steady.def_file"
   ]
  },
  {
   "cell_type": "code",
   "execution_count": null,
   "id": "dcc50a81-6701-4415-95e8-dff3508738a5",
   "metadata": {},
   "outputs": [],
   "source": [
    "if len(case_steady.res_files) > 0:\n",
    "    case_steady.reset()"
   ]
  },
  {
   "cell_type": "markdown",
   "id": "454bcbbd-da38-4c88-a0bf-60e61d06d8cb",
   "metadata": {},
   "source": [
    "### Renaming a case\n",
    "We will demonstrate renaming and copying in such a way that in the end, the testdata directory looks like before, thus renaming and copying actually has no effect and is just for demosntrating purposes:"
   ]
  },
  {
   "cell_type": "code",
   "execution_count": null,
   "id": "9c94a300-479b-4804-abf0-f899a186c879",
   "metadata": {},
   "outputs": [],
   "source": [
    "case_steady.working_dir"
   ]
  },
  {
   "cell_type": "markdown",
   "id": "6c0bfa4a-fd19-474c-8adf-2abffff4ad4e",
   "metadata": {},
   "source": [
    "Copy the case to a different directory:"
   ]
  },
  {
   "cell_type": "code",
   "execution_count": null,
   "id": "fdca756a-f64e-4c47-b063-1969ccbfe31c",
   "metadata": {
    "tags": []
   },
   "outputs": [],
   "source": [
    "case_steady_copy = case_steady.copy('tmp/cylinder_case')"
   ]
  },
  {
   "cell_type": "code",
   "execution_count": null,
   "id": "cffa5e27-25c8-4785-9875-78b330454096",
   "metadata": {},
   "outputs": [],
   "source": [
    "case_steady_copy.filename.name, case_steady.filename.name"
   ]
  },
  {
   "cell_type": "code",
   "execution_count": null,
   "id": "50786e51-b4c3-4684-b9df-3b5267238366",
   "metadata": {},
   "outputs": [],
   "source": [
    "case_steady_copy.working_dir.name, case_steady.working_dir.name"
   ]
  },
  {
   "cell_type": "code",
   "execution_count": null,
   "id": "4bee0532-324a-45f8-b13e-5d1315d554d1",
   "metadata": {},
   "outputs": [],
   "source": [
    "case_steady_copy.rename('cylinder_case_renamed')"
   ]
  },
  {
   "cell_type": "code",
   "execution_count": null,
   "id": "22abf8c1-693d-4fb4-8e4e-049e10a3e8e1",
   "metadata": {},
   "outputs": [],
   "source": [
    "case_steady_copy.filename.name"
   ]
  },
  {
   "cell_type": "markdown",
   "id": "361a4bef-53f6-4cf9-9a41-4f827d478bba",
   "metadata": {},
   "source": [
    "Removing the copyied case for the sake of this tutorial"
   ]
  },
  {
   "cell_type": "code",
   "execution_count": null,
   "id": "66fd3b61-7a3e-4dc7-b2ef-ddbd5a22fb7f",
   "metadata": {},
   "outputs": [],
   "source": [
    "import shutil\n",
    "shutil.rmtree(case_steady_copy.working_dir)\n",
    "del case_steady_copy"
   ]
  },
  {
   "cell_type": "markdown",
   "id": "38ad43be-41bd-42ec-b37a-ce8f16939541",
   "metadata": {},
   "source": [
    "### Starting a case\n",
    "A case can be started from any other initial result file or from none. The number of processors to be used and the clock time can be passed as arguments. `start()` will return the command line that was constructed and executed.\n",
    "\n",
    "Note, that when passing `wait=True` python calls the CFX solver and waits until it finishes. Only after that the next python command can be executed."
   ]
  },
  {
   "cell_type": "code",
   "execution_count": null,
   "id": "fa8c4c9d-bae0-4a34-b7f8-1d0b150bac0c",
   "metadata": {},
   "outputs": [],
   "source": [
    "if True:\n",
    "    case_steady.start(initial_result_file=None, nproc=2, timeout=20, wait=False)"
   ]
  },
  {
   "cell_type": "markdown",
   "id": "8282337a-b08c-4eb6-b17a-49c64c2b87ca",
   "metadata": {},
   "source": [
    "### Stopping a case\n",
    "You can call `.stop()` from your `CFXCase` instance to stop the run(s). This will btw. stop all running cases in the working directory!"
   ]
  },
  {
   "cell_type": "code",
   "execution_count": null,
   "id": "0348fa73-04cf-4f03-b475-1e6d2607c9fa",
   "metadata": {},
   "outputs": [],
   "source": [
    "case_steady.stop()  # touches a file \"stp\" in the *.dir directory if exists"
   ]
  },
  {
   "cell_type": "markdown",
   "id": "d810b3b2-0a50-4dc4-b96d-2c8a85ea9b51",
   "metadata": {},
   "source": [
    "## Monitor Points\n",
    "\n",
    "User points are very helpful to analyze the runs"
   ]
  },
  {
   "cell_type": "markdown",
   "id": "933aa79b-9409-4df6-b78f-182386b0ac8d",
   "metadata": {},
   "source": [
    "### User Points\n",
    "\n",
    "The example case has some user points registered which can be requested by calling the `Monitor` instance of e.g. the lates result file:"
   ]
  },
  {
   "cell_type": "code",
   "execution_count": null,
   "id": "da18af17-38a8-4419-bdfd-3b21a70f9e56",
   "metadata": {},
   "outputs": [],
   "source": [
    "if case_steady.latest:\n",
    "    print(case_steady.latest.monitor.user_points.keys())"
   ]
  },
  {
   "cell_type": "markdown",
   "id": "9449e700-d9c2-4885-bccb-bc57316204c4",
   "metadata": {
    "tags": []
   },
   "source": [
    "## Controll and change case settings\n",
    "\n",
    "The following shows how to set and read various options in your case file."
   ]
  },
  {
   "cell_type": "code",
   "execution_count": null,
   "id": "377a1c87-a05f-468b-b168-45eae9f33237",
   "metadata": {},
   "outputs": [],
   "source": [
    "case_steady.ccl"
   ]
  },
  {
   "cell_type": "code",
   "execution_count": null,
   "id": "6798d1d8-9af6-4396-9ba7-b1df824a86b4",
   "metadata": {},
   "outputs": [],
   "source": [
    "case_steady.ccl.flow[0].domains[0].get_boundary_type('inlet').dump()"
   ]
  },
  {
   "cell_type": "code",
   "execution_count": null,
   "id": "430556b4-0081-4533-baca-2064980eed63",
   "metadata": {},
   "outputs": [],
   "source": [
    "case_steady.ccl.to_ccl('test.ccl')"
   ]
  },
  {
   "cell_type": "code",
   "execution_count": null,
   "id": "4c3e3dc5-0503-4583-b931-7989f4ae524f",
   "metadata": {},
   "outputs": [],
   "source": [
    "case_steady.import_ccl()"
   ]
  },
  {
   "cell_type": "code",
   "execution_count": null,
   "id": "9b7e31ef-82c9-46f5-bb92-d0cd04460c4c",
   "metadata": {},
   "outputs": [],
   "source": [
    "case_steady.ccl.flow[0].domains[0].get_boundary_type('inlet').dump()"
   ]
  },
  {
   "cell_type": "markdown",
   "id": "2a1c16c2-3fbd-4716-89b5-ced07728f3fb",
   "metadata": {},
   "source": [
    "### Setting a new boundary condition"
   ]
  },
  {
   "cell_type": "code",
   "execution_count": null,
   "id": "1add2c4f-6b6e-44a5-80a8-3d1c6aaa5830",
   "metadata": {},
   "outputs": [],
   "source": [
    "from cfdtoolkit.cfx.boundary_conditions.inlet import NormalSpeed"
   ]
  },
  {
   "cell_type": "code",
   "execution_count": null,
   "id": "7502269b-797a-4eeb-ba33-ad5c8ffa6c67",
   "metadata": {},
   "outputs": [],
   "source": [
    "inlet = case_steady.ccl.flow[0].domains[0].get_boundary_type('inlet')"
   ]
  },
  {
   "cell_type": "code",
   "execution_count": null,
   "id": "8b85e285-9dda-4190-ad76-9858c4c94499",
   "metadata": {},
   "outputs": [],
   "source": [
    "inlet.condition = NormalSpeed(flow_regime='Subsonic', normal_speed=1)"
   ]
  },
  {
   "cell_type": "code",
   "execution_count": null,
   "id": "27166071-f99d-4bed-b051-688a29644d4e",
   "metadata": {},
   "outputs": [],
   "source": [
    "inlet.condition"
   ]
  },
  {
   "cell_type": "code",
   "execution_count": null,
   "id": "064e4632-0ba5-4208-8c26-1f9d45a95962",
   "metadata": {},
   "outputs": [],
   "source": [
    "case_steady.ccl.flow[0].domains[0].get_boundary_type('inlet').dump()"
   ]
  },
  {
   "cell_type": "code",
   "execution_count": null,
   "id": "b7a84373-b920-4d0c-93f3-3bc59a858bb2",
   "metadata": {},
   "outputs": [],
   "source": [
    "case_steady.update()"
   ]
  },
  {
   "cell_type": "markdown",
   "id": "f90b4467-145e-491c-90d4-b930cdb866dd",
   "metadata": {},
   "source": [
    "## Transient cases\n",
    "\n",
    "Transient cases are not treated differnlty than steady cases. You just have more options to set or to manipulate. How to controll the settings is shown later"
   ]
  },
  {
   "cell_type": "code",
   "execution_count": null,
   "id": "1e607334-560a-444b-be12-b1d962b17c97",
   "metadata": {},
   "outputs": [],
   "source": [
    "# case_transient = CFXCase('../testdata/simpleRotor/simpleRotor_mesh0_trn.cfx')"
   ]
  },
  {
   "cell_type": "code",
   "execution_count": null,
   "id": "c06f0e8c-5db0-49aa-9674-6309777ccd57",
   "metadata": {},
   "outputs": [],
   "source": [
    "# case_transient.filename"
   ]
  },
  {
   "cell_type": "code",
   "execution_count": null,
   "id": "6e7d019b-758a-431d-8306-371c1ec250a0",
   "metadata": {},
   "outputs": [],
   "source": [
    "# if case_steady.latest:\n",
    "#     case_steady.latest.filename"
   ]
  },
  {
   "cell_type": "code",
   "execution_count": null,
   "id": "06ba5864-177b-4bcd-83ed-853a7bf4478a",
   "metadata": {},
   "outputs": [],
   "source": []
  }
 ],
 "metadata": {
  "kernelspec": {
   "display_name": "Python 3 (ipykernel)",
   "language": "python",
   "name": "python3"
  },
  "language_info": {
   "codemirror_mode": {
    "name": "ipython",
    "version": 3
   },
   "file_extension": ".py",
   "mimetype": "text/x-python",
   "name": "python",
   "nbconvert_exporter": "python",
   "pygments_lexer": "ipython3",
   "version": "3.7.9"
  }
 },
 "nbformat": 4,
 "nbformat_minor": 5
}
