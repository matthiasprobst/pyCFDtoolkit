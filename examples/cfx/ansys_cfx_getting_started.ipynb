{
 "cells": [
  {
   "cell_type": "markdown",
   "id": "4ada66ec-2d4d-4609-9b1d-bd2f6a744d2c",
   "metadata": {},
   "source": [
    "# Getting started with the Ansys-CFX Module in the cfdtoolbox"
   ]
  },
  {
   "cell_type": "markdown",
   "id": "06e0b315-e61e-4aae-a545-e8301b1c52f9",
   "metadata": {},
   "source": [
    "## Paths\n",
    "\n",
    "The paths to the executables of ansys (we need `cfx5pre`, `cfx5solve` and `cfx5cmds`) are defined in an environment file. One for linux: `cfx_linux.env`. One for windows: `cfx_win.env`.\n",
    "\n",
    "Those files are located in you user direcotry:"
   ]
  },
  {
   "cell_type": "code",
   "execution_count": 1,
   "id": "8bbd42c5-6557-4b9d-950d-2217ad4aa20f",
   "metadata": {},
   "outputs": [
    {
     "data": {
      "text/plain": [
       "WindowsPath('C:/Users/da4323/.config/cfdtoolbox/cfx_win.env')"
      ]
     },
     "execution_count": 1,
     "metadata": {},
     "output_type": "execute_result"
    }
   ],
   "source": [
    "from cfdtoolbox import CFX_DOTENV_FILENAME\n",
    "CFX_DOTENV_FILENAME"
   ]
  }
 ],
 "metadata": {
  "kernelspec": {
   "display_name": "Python 3 (ipykernel)",
   "language": "python",
   "name": "python3"
  },
  "language_info": {
   "codemirror_mode": {
    "name": "ipython",
    "version": 3
   },
   "file_extension": ".py",
   "mimetype": "text/x-python",
   "name": "python",
   "nbconvert_exporter": "python",
   "pygments_lexer": "ipython3",
   "version": "3.7.9"
  }
 },
 "nbformat": 4,
 "nbformat_minor": 5
}
