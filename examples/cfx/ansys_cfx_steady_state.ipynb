{
 "cells": [
  {
   "cell_type": "markdown",
   "id": "4ada66ec-2d4d-4609-9b1d-bd2f6a744d2c",
   "metadata": {},
   "source": [
    "# Managing Ansys-CFX cases"
   ]
  },
  {
   "cell_type": "code",
   "execution_count": 1,
   "id": "a4e767a7-0995-4450-944a-6bf54c7aec2c",
   "metadata": {},
   "outputs": [],
   "source": [
    "from cfdtoolkit.cfx.case import CFXCase\n",
    "\n",
    "from cfdtoolkit import set_loglevel\n",
    "set_loglevel('INFO')"
   ]
  },
  {
   "cell_type": "code",
   "execution_count": 2,
   "id": "f0fad2d5-b220-464e-8876-a2e15f131007",
   "metadata": {},
   "outputs": [
    {
     "data": {
      "text/plain": [
       "WindowsPath('C:/Program Files/ANSYS Inc/v202/CFX/bin/cfx5pre.exe')"
      ]
     },
     "execution_count": 2,
     "metadata": {},
     "output_type": "execute_result"
    }
   ],
   "source": [
    "from cfdtoolkit.cfx import CFXInstallation\n",
    "\n",
    "cfx = CFXInstallation('cfx.env')\n",
    "cfx.check()\n",
    "cfx.pre"
   ]
  },
  {
   "cell_type": "markdown",
   "id": "9d4f6623-4b73-4547-8850-6436e7948273",
   "metadata": {},
   "source": [
    "## Steady-state CFX Case\n",
    "\n",
    "A `CFXCase` is initialized with the `.cfx` file. The solver file (`.def`-file) is automatically detected as well as the `.res`-files if available."
   ]
  },
  {
   "cell_type": "code",
   "execution_count": 3,
   "id": "e9c61831-e9aa-47e1-8bc7-ec730c8e5847",
   "metadata": {},
   "outputs": [],
   "source": [
    "from cfdtoolkit.cfx.solve import CFXSolve\n",
    "from cfdtoolkit.cfx.pre import CFXPre\n",
    "from cfdtoolkit.cfx.ccl import CCLFile\n",
    "from cfdtoolkit.cfx.case import CFXCase\n",
    "\n",
    "import shutil"
   ]
  },
  {
   "cell_type": "code",
   "execution_count": 4,
   "id": "bec44c11-07be-47c8-9007-a8d8f4259186",
   "metadata": {},
   "outputs": [],
   "source": [
    "cfx_filename = shutil.copy2('../../testdata/cylinderflow/steady_state/cyl_steadystate_laminar.cfx',\n",
    "                            'cyl_steadystate_laminar.cfx')"
   ]
  },
  {
   "cell_type": "code",
   "execution_count": 5,
   "id": "a702b7ca-9963-4320-a430-9ec36ca14472",
   "metadata": {},
   "outputs": [
    {
     "data": {
      "text/plain": [
       "<CFXCase name: cyl_steadystate_laminar>"
      ]
     },
     "execution_count": 5,
     "metadata": {},
     "output_type": "execute_result"
    }
   ],
   "source": [
    "case = CFXCase(cfx_filename)\n",
    "case"
   ]
  },
  {
   "cell_type": "code",
   "execution_count": 6,
   "id": "37884796-8761-4042-a5e5-5a397dd8236d",
   "metadata": {},
   "outputs": [
    {
     "name": "stdout",
     "output_type": "stream",
     "text": [
      "......CFX Case......\n",
      " > name: cyl_steadystate_laminar\n",
      " > Working dir: C:\\Users\\da4323\\Documents\\programming\\git\\cfd\\pyCFDtoolkit\\examples\\cfx\n",
      " > Result files:\n",
      "     (1/1): cyl_steadystate_laminar_001.res (cyl_steadystate_laminar_001.out)\n"
     ]
    }
   ],
   "source": [
    "case.info()"
   ]
  },
  {
   "cell_type": "code",
   "execution_count": 7,
   "id": "2466feda-f712-4409-8bdc-b1d7ed75e08b",
   "metadata": {},
   "outputs": [
    {
     "data": {
      "text/plain": [
       "{'Default Domain': 9284}"
      ]
     },
     "execution_count": 7,
     "metadata": {},
     "output_type": "execute_result"
    }
   ],
   "source": [
    "case.res_files[-1].outfile.get_mesh_info()"
   ]
  },
  {
   "cell_type": "code",
   "execution_count": 8,
   "id": "50768a6d-e253-4997-9217-0f7be58794ff",
   "metadata": {},
   "outputs": [
    {
     "data": {
      "text/plain": [
       "[<matplotlib.lines.Line2D at 0x18f1587e130>]"
      ]
     },
     "execution_count": 8,
     "metadata": {},
     "output_type": "execute_result"
    },
    {
     "data": {
      "image/png": "[encoded data removed]",
      "text/plain": [
       "<Figure size 640x480 with 1 Axes>"
      ]
     },
     "metadata": {},
     "output_type": "display_data"
    }
   ],
   "source": [
    "case.res_files[-1].outfile.data.cpu_seconds.plot()"
   ]
  },
  {
   "cell_type": "code",
   "execution_count": 9,
   "id": "1c47d917-4ee7-431c-8404-0772c27f9c95",
   "metadata": {},
   "outputs": [
    {
     "ename": "NameError",
     "evalue": "name 'awdwad' is not defined",
     "output_type": "error",
     "traceback": [
      "\u001b[1;31m---------------------------------------------------------------------------\u001b[0m",
      "\u001b[1;31mNameError\u001b[0m                                 Traceback (most recent call last)",
      "Cell \u001b[1;32mIn [9], line 1\u001b[0m\n\u001b[1;32m----> 1\u001b[0m \u001b[43mawdwad\u001b[49m\n",
      "\u001b[1;31mNameError\u001b[0m: name 'awdwad' is not defined"
     ]
    }
   ],
   "source": [
    "awdwad"
   ]
  },
  {
   "cell_type": "code",
   "execution_count": null,
   "id": "fc0a539e-c70d-4d72-bcc8-b0b92a610c46",
   "metadata": {},
   "outputs": [],
   "source": [
    "cfxfile = CFXPre('cyl_steadystate_laminar.cfx')\n",
    "deffilename = cfxfile.write_def()"
   ]
  },
  {
   "cell_type": "code",
   "execution_count": null,
   "id": "aeb5f96e-f02b-4e9c-9c2e-da5b30dc1031",
   "metadata": {},
   "outputs": [],
   "source": [
    "deffilename"
   ]
  },
  {
   "cell_type": "code",
   "execution_count": null,
   "id": "449e4c33-60ed-4d07-873c-45d22cd1e127",
   "metadata": {},
   "outputs": [],
   "source": [
    "deffile = CFXSolve(deffilename)\n",
    "deffile.run(nproc=4, verbose=True)"
   ]
  },
  {
   "cell_type": "code",
   "execution_count": null,
   "id": "6e25e454-013f-4d03-b097-52c55373abdb",
   "metadata": {},
   "outputs": [],
   "source": [
    "cclfilename = deffile.write_ccl()\n",
    "cclfilename"
   ]
  },
  {
   "cell_type": "code",
   "execution_count": null,
   "id": "4f805061-727b-4f0e-93f8-63e8fddb41e7",
   "metadata": {},
   "outputs": [],
   "source": [
    "ccl = CCLFile(cclfilename)\n",
    "ccl.flow[0].max_iterations = 5\n",
    "ccl.filename"
   ]
  },
  {
   "cell_type": "code",
   "execution_count": null,
   "id": "aa06b1bd-605b-4b9d-b5a6-b899a0700775",
   "metadata": {},
   "outputs": [],
   "source": [
    "cfxfile.from_h5ccl(ccl.filename)"
   ]
  },
  {
   "cell_type": "code",
   "execution_count": null,
   "id": "053882b4-00a9-41a5-95e8-b11d31422660",
   "metadata": {},
   "outputs": [],
   "source": [
    "awdwad"
   ]
  },
  {
   "cell_type": "code",
   "execution_count": null,
   "id": "3ad06b17-2fd9-4c70-bab9-79f7f5e6a6a6",
   "metadata": {
    "tags": []
   },
   "outputs": [],
   "source": [
    "case_steady = CFXCase('../../testdata/cylinderflow/steady_state/cyl_steadystate_laminar.cfx')\n",
    "case_steady"
   ]
  },
  {
   "cell_type": "code",
   "execution_count": null,
   "id": "3fbc7b6a-1233-401e-a0af-36155b882970",
   "metadata": {},
   "outputs": [],
   "source": [
    "case_steady.working_dir"
   ]
  },
  {
   "cell_type": "code",
   "execution_count": null,
   "id": "dcc50a81-6701-4415-95e8-dff3508738a5",
   "metadata": {},
   "outputs": [],
   "source": [
    "if len(case_steady.res_files) > 0:\n",
    "    case_steady.reset()"
   ]
  },
  {
   "cell_type": "markdown",
   "id": "38ad43be-41bd-42ec-b37a-ce8f16939541",
   "metadata": {},
   "source": [
    "### Starting a case\n",
    "A case can be started from any other initial result file or from none. The number of processors to be used and the clock time can be passed as arguments. `start()` will return the command line that was constructed and executed.\n",
    "\n",
    "Note, that when passing `wait=True` python calls the CFX solver and waits until it finishes. Only after that the next python command can be executed."
   ]
  },
  {
   "cell_type": "code",
   "execution_count": null,
   "id": "dbc17f6e-7c52-46f7-a110-00a5bdf00aec",
   "metadata": {},
   "outputs": [],
   "source": [
    "case_steady = CFXCase('../../testdata/cylinderflow/steady_state/cyl_steadystate_laminar.cfx')\n",
    "case_steady"
   ]
  },
  {
   "cell_type": "code",
   "execution_count": null,
   "id": "2e662a26-00d0-4aa9-9a97-af226be21033",
   "metadata": {},
   "outputs": [],
   "source": [
    "case_steady.ccl.flow[0].max_iterations = 5"
   ]
  },
  {
   "cell_type": "code",
   "execution_count": null,
   "id": "ec262215-b32b-48f0-a47d-398b4aabffff",
   "metadata": {},
   "outputs": [],
   "source": [
    "case_steady.ccl.dump()"
   ]
  },
  {
   "cell_type": "markdown",
   "id": "aa4e1964-3941-4b6c-94c6-09fc65459013",
   "metadata": {},
   "source": [
    "update the path to the inlet velocity data:"
   ]
  },
  {
   "cell_type": "code",
   "execution_count": null,
   "id": "3cb64298-c0b2-4f6b-85c4-599d40647726",
   "metadata": {},
   "outputs": [],
   "source": [
    "import pathlib\n",
    "inlet_data_source = pathlib.Path(\"../../testdata/cylinderflow/inlet_profile_Re20.csv\").resolve()\n",
    "case_steady.ccl['LIBRARY/CEL/FUNCTION: inlet/DATA SOURCE'].options['File Name'] = str(inlet_data_source)\n",
    "case_steady.ccl.dump()\n",
    "case_steady.ccl.filename"
   ]
  },
  {
   "cell_type": "code",
   "execution_count": null,
   "id": "dae715d0-cb26-4caa-ab9d-4423c2e73d78",
   "metadata": {},
   "outputs": [],
   "source": [
    "case_steady.ccl.flow[0].dump()"
   ]
  },
  {
   "cell_type": "code",
   "execution_count": null,
   "id": "173f80c8-6955-451f-a5aa-4eb979c0c632",
   "metadata": {},
   "outputs": [],
   "source": [
    "del case_steady.ccl.expressions.options['dmfr']\n",
    "del case_steady.ccl.flow[0].monitor_object['dmfr']"
   ]
  },
  {
   "cell_type": "code",
   "execution_count": null,
   "id": "fa8c4c9d-bae0-4a34-b7f8-1d0b150bac0c",
   "metadata": {},
   "outputs": [],
   "source": [
    "if True:\n",
    "    case_steady.start(initial_result_file=None, nproc=2, timeout=120, wait=True)"
   ]
  },
  {
   "cell_type": "markdown",
   "id": "5f5d0f3c-e33b-4eac-b246-61b89b5cbe5a",
   "metadata": {},
   "source": [
    "### Resume a case\n",
    "You can call `.resume()` on your latest result to continue from it. Note, calling `resume` on the latest result file will not take changes in the ccl file into account! Calling it from the `CFXCase` instance however will! You may call `.update_from_ccl()` to be absolutely sure!"
   ]
  },
  {
   "cell_type": "code",
   "execution_count": null,
   "id": "9b19cac4-513e-472d-b4de-5b68d52eb18b",
   "metadata": {},
   "outputs": [],
   "source": [
    "case_steady.update_from_ccl()\n",
    "case_steady.latest.resume(nproc=2)\n",
    "\n",
    "# # or call:\n",
    "# case_steady.resume(nproc=2)"
   ]
  },
  {
   "cell_type": "markdown",
   "id": "8282337a-b08c-4eb6-b17a-49c64c2b87ca",
   "metadata": {
    "tags": []
   },
   "source": [
    "### Stopping a case\n",
    "You can call `.stop()` from your `CFXCase` instance to stop the run(s). This will btw. stop all running cases in the working directory!"
   ]
  },
  {
   "cell_type": "code",
   "execution_count": null,
   "id": "0348fa73-04cf-4f03-b475-1e6d2607c9fa",
   "metadata": {},
   "outputs": [],
   "source": [
    "case_steady.stop()  # touches a file \"stp\" in the *.dir directory if exists"
   ]
  },
  {
   "cell_type": "markdown",
   "id": "d810b3b2-0a50-4dc4-b96d-2c8a85ea9b51",
   "metadata": {},
   "source": [
    "## Monitor Points and Expressions\n",
    "\n",
    "User points are very helpful to analyze the runs\n",
    "\n",
    "### Define an expression:"
   ]
  },
  {
   "cell_type": "code",
   "execution_count": null,
   "id": "81823af9-f7dd-4811-8f6a-24a55618d659",
   "metadata": {
    "tags": []
   },
   "outputs": [],
   "source": [
    "case_steady.ccl.expressions.options['test'] = 'test'"
   ]
  },
  {
   "cell_type": "code",
   "execution_count": null,
   "id": "975e2447-4595-4821-bb71-c8deb781bdaa",
   "metadata": {
    "tags": []
   },
   "outputs": [],
   "source": [
    "del case_steady.ccl.expressions.options['test']\n",
    "del case_steady.ccl.expressions.options['dmfr']  # delete if exists from previous run for the sake of this tutorial"
   ]
  },
  {
   "cell_type": "code",
   "execution_count": null,
   "id": "e2c31c73-6a0d-4d74-8094-27efbed7f1c4",
   "metadata": {},
   "outputs": [],
   "source": [
    "case_steady.ccl.expressions.options['dmfr'] = 'massFlow()@OUTLET-massFlow()@INLET'"
   ]
  },
  {
   "cell_type": "code",
   "execution_count": null,
   "id": "c4e3c7bb-9962-4070-8205-6fcf85ab75b8",
   "metadata": {},
   "outputs": [],
   "source": [
    "case_steady.ccl.expressions.options"
   ]
  },
  {
   "cell_type": "markdown",
   "id": "4ae3fa9a-50ca-4e4d-a966-4e24743cf7d2",
   "metadata": {},
   "source": [
    "### Defining a monitor point:"
   ]
  },
  {
   "cell_type": "code",
   "execution_count": null,
   "id": "6493cf0a-2e35-41fd-944e-252b5758c7e7",
   "metadata": {},
   "outputs": [],
   "source": [
    "from cfdtoolkit.cfx.core import MonitorObject\n",
    "case_steady.ccl.flow[0].monitor_object['dmfr'] = MonitorObject(expression_value='dmfr', coord_frame='Coord 0')\n",
    "case_steady.ccl.dump()"
   ]
  },
  {
   "cell_type": "markdown",
   "id": "b949cca3-9fc7-480f-a5c8-5e64b6227923",
   "metadata": {},
   "source": [
    "Let's continue/resume the run as we have now a new expression set and registered it as a monitor point"
   ]
  },
  {
   "cell_type": "code",
   "execution_count": null,
   "id": "d2234842-14ee-4f71-919f-a13c26c5462b",
   "metadata": {},
   "outputs": [],
   "source": [
    "case_steady.resume(nproc=2)"
   ]
  },
  {
   "cell_type": "markdown",
   "id": "933aa79b-9409-4df6-b78f-182386b0ac8d",
   "metadata": {},
   "source": [
    "### User Points\n",
    "\n",
    "The example case has some user points registered which can be requested by calling the `Monitor` instance of e.g. the lates result file:"
   ]
  },
  {
   "cell_type": "code",
   "execution_count": null,
   "id": "54b40699-a7ac-47de-9ac8-076915a92c92",
   "metadata": {},
   "outputs": [],
   "source": [
    "case_steady.latest"
   ]
  },
  {
   "cell_type": "code",
   "execution_count": null,
   "id": "c3ebb52b-c008-4ef9-8751-b7ea9d157aaf",
   "metadata": {},
   "outputs": [],
   "source": [
    "case_steady.latest.monitor.user_points.keys()"
   ]
  },
  {
   "cell_type": "code",
   "execution_count": null,
   "id": "ce072a03-0d8e-47b2-9cb7-dbc89953d232",
   "metadata": {},
   "outputs": [],
   "source": [
    "case_steady.latest.monitor.user_points['dmfr'].plot()"
   ]
  },
  {
   "cell_type": "code",
   "execution_count": null,
   "id": "da18af17-38a8-4419-bdfd-3b21a70f9e56",
   "metadata": {},
   "outputs": [],
   "source": [
    "#if case_steady.latest:\n",
    "print(len(case_steady.result_files.cfx_res_files))\n",
    "print(case_steady.latest)"
   ]
  },
  {
   "cell_type": "markdown",
   "id": "9449e700-d9c2-4885-bccb-bc57316204c4",
   "metadata": {
    "tags": []
   },
   "source": [
    "## Controll and change case settings\n",
    "\n",
    "The following shows how to set and read various options in your case file."
   ]
  },
  {
   "cell_type": "code",
   "execution_count": null,
   "id": "377a1c87-a05f-468b-b168-45eae9f33237",
   "metadata": {},
   "outputs": [],
   "source": [
    "case_steady.ccl"
   ]
  },
  {
   "cell_type": "code",
   "execution_count": null,
   "id": "6798d1d8-9af6-4396-9ba7-b1df824a86b4",
   "metadata": {},
   "outputs": [],
   "source": [
    "case_steady.ccl.flow[0].domains[0].get_boundary_type('inlet').dump()"
   ]
  },
  {
   "cell_type": "code",
   "execution_count": null,
   "id": "430556b4-0081-4533-baca-2064980eed63",
   "metadata": {},
   "outputs": [],
   "source": [
    "case_steady.ccl.to_ccl('test.ccl')"
   ]
  },
  {
   "cell_type": "code",
   "execution_count": null,
   "id": "4c3e3dc5-0503-4583-b931-7989f4ae524f",
   "metadata": {},
   "outputs": [],
   "source": [
    "#case_steady.import_ccl()"
   ]
  },
  {
   "cell_type": "code",
   "execution_count": null,
   "id": "9b7e31ef-82c9-46f5-bb92-d0cd04460c4c",
   "metadata": {},
   "outputs": [],
   "source": [
    "case_steady.ccl.flow[0].domains[0].get_boundary_type('inlet').dump()"
   ]
  },
  {
   "cell_type": "markdown",
   "id": "2a1c16c2-3fbd-4716-89b5-ced07728f3fb",
   "metadata": {},
   "source": [
    "### Setting a new boundary condition"
   ]
  },
  {
   "cell_type": "code",
   "execution_count": null,
   "id": "1add2c4f-6b6e-44a5-80a8-3d1c6aaa5830",
   "metadata": {},
   "outputs": [],
   "source": [
    "from cfdtoolkit.cfx.boundary_conditions.inlet import NormalSpeed"
   ]
  },
  {
   "cell_type": "code",
   "execution_count": null,
   "id": "7502269b-797a-4eeb-ba33-ad5c8ffa6c67",
   "metadata": {},
   "outputs": [],
   "source": [
    "inlet = case_steady.ccl.flow[0].domains[0].get_boundary_type('inlet')"
   ]
  },
  {
   "cell_type": "code",
   "execution_count": null,
   "id": "8b85e285-9dda-4190-ad76-9858c4c94499",
   "metadata": {},
   "outputs": [],
   "source": [
    "inlet.condition = NormalSpeed(flow_regime='Subsonic', normal_speed=1)"
   ]
  },
  {
   "cell_type": "code",
   "execution_count": null,
   "id": "27166071-f99d-4bed-b051-688a29644d4e",
   "metadata": {},
   "outputs": [],
   "source": [
    "inlet.condition"
   ]
  },
  {
   "cell_type": "code",
   "execution_count": null,
   "id": "064e4632-0ba5-4208-8c26-1f9d45a95962",
   "metadata": {},
   "outputs": [],
   "source": [
    "case_steady.ccl.flow[0].domains[0].get_boundary_type('inlet').dump()"
   ]
  },
  {
   "cell_type": "code",
   "execution_count": null,
   "id": "b7a84373-b920-4d0c-93f3-3bc59a858bb2",
   "metadata": {},
   "outputs": [],
   "source": [
    "case_steady.update()"
   ]
  },
  {
   "cell_type": "code",
   "execution_count": null,
   "id": "06ba5864-177b-4bcd-83ed-853a7bf4478a",
   "metadata": {},
   "outputs": [],
   "source": []
  }
 ],
 "metadata": {
  "kernelspec": {
   "display_name": "Python 3 (ipykernel)",
   "language": "python",
   "name": "python3"
  },
  "language_info": {
   "codemirror_mode": {
    "name": "ipython",
    "version": 3
   },
   "file_extension": ".py",
   "mimetype": "text/x-python",
   "name": "python",
   "nbconvert_exporter": "python",
   "pygments_lexer": "ipython3",
   "version": "3.8.13"
  }
 },
 "nbformat": 4,
 "nbformat_minor": 5
}
