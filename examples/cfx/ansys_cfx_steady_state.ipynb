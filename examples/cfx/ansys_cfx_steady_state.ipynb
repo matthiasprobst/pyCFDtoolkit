{
 "cells": [
  {
   "cell_type": "markdown",
   "id": "4ada66ec-2d4d-4609-9b1d-bd2f6a744d2c",
   "metadata": {},
   "source": [
    "# Managing Ansys-CFX cases"
   ]
  },
  {
   "cell_type": "code",
   "execution_count": null,
   "id": "a4e767a7-0995-4450-944a-6bf54c7aec2c",
   "metadata": {},
   "outputs": [],
   "source": [
    "from cfdtoolkit.cfx.case import CFXCase\n",
    "from cfdtoolkit import set_loglevel\n",
    "set_loglevel('INFO')"
   ]
  },
  {
   "cell_type": "markdown",
   "id": "9d4f6623-4b73-4547-8850-6436e7948273",
   "metadata": {},
   "source": [
    "## Steady-state CFX Case\n",
    "\n",
    "A `CFXCase` is initialized with the `.cfx` file. The solver file (`.def`-file) is automatically detected as well as the `.res`-files if available."
   ]
  },
  {
   "cell_type": "code",
   "execution_count": null,
   "id": "f6484241-ed0d-4a51-b5ad-a2c34c04a35b",
   "metadata": {},
   "outputs": [],
   "source": [
    "from cfdtoolkit.cfx.session import CFX5PRE"
   ]
  },
  {
   "cell_type": "code",
   "execution_count": null,
   "id": "3ad06b17-2fd9-4c70-bab9-79f7f5e6a6a6",
   "metadata": {
    "tags": []
   },
   "outputs": [],
   "source": [
    "case_steady = CFXCase('../../testdata/cylinderflow/steady_state/cyl_steadystate_laminar.cfx')\n",
    "case_steady"
   ]
  },
  {
   "cell_type": "code",
   "execution_count": null,
   "id": "3fbc7b6a-1233-401e-a0af-36155b882970",
   "metadata": {},
   "outputs": [],
   "source": [
    "case_steady.working_dir"
   ]
  },
  {
   "cell_type": "code",
   "execution_count": null,
   "id": "dcc50a81-6701-4415-95e8-dff3508738a5",
   "metadata": {},
   "outputs": [],
   "source": [
    "if len(case_steady.res_files) > 0:\n",
    "    case_steady.reset()"
   ]
  },
  {
   "cell_type": "markdown",
   "id": "38ad43be-41bd-42ec-b37a-ce8f16939541",
   "metadata": {},
   "source": [
    "### Starting a case\n",
    "A case can be started from any other initial result file or from none. The number of processors to be used and the clock time can be passed as arguments. `start()` will return the command line that was constructed and executed.\n",
    "\n",
    "Note, that when passing `wait=True` python calls the CFX solver and waits until it finishes. Only after that the next python command can be executed."
   ]
  },
  {
   "cell_type": "code",
   "execution_count": null,
   "id": "dbc17f6e-7c52-46f7-a110-00a5bdf00aec",
   "metadata": {},
   "outputs": [],
   "source": [
    "case_steady = CFXCase('../../testdata/cylinderflow/steady_state/cyl_steadystate_laminar.cfx')\n",
    "case_steady"
   ]
  },
  {
   "cell_type": "code",
   "execution_count": null,
   "id": "2e662a26-00d0-4aa9-9a97-af226be21033",
   "metadata": {},
   "outputs": [],
   "source": [
    "case_steady.ccl.flow[0].max_iterations = 5"
   ]
  },
  {
   "cell_type": "code",
   "execution_count": null,
   "id": "ec262215-b32b-48f0-a47d-398b4aabffff",
   "metadata": {},
   "outputs": [],
   "source": [
    "case_steady.ccl.dump()"
   ]
  },
  {
   "cell_type": "markdown",
   "id": "aa4e1964-3941-4b6c-94c6-09fc65459013",
   "metadata": {},
   "source": [
    "update the path to the inlet velocity data:"
   ]
  },
  {
   "cell_type": "code",
   "execution_count": null,
   "id": "3cb64298-c0b2-4f6b-85c4-599d40647726",
   "metadata": {},
   "outputs": [],
   "source": [
    "import pathlib\n",
    "inlet_data_source = pathlib.Path(\"../../testdata/cylinderflow/inlet_profile_Re20.csv\").resolve()\n",
    "case_steady.ccl['LIBRARY/CEL/FUNCTION: inlet/DATA SOURCE'].options['File Name'] = str(inlet_data_source)\n",
    "case_steady.ccl.dump()\n",
    "case_steady.ccl.filename"
   ]
  },
  {
   "cell_type": "code",
   "execution_count": null,
   "id": "dae715d0-cb26-4caa-ab9d-4423c2e73d78",
   "metadata": {},
   "outputs": [],
   "source": [
    "case_steady.ccl.flow[0].dump()"
   ]
  },
  {
   "cell_type": "code",
   "execution_count": null,
   "id": "173f80c8-6955-451f-a5aa-4eb979c0c632",
   "metadata": {},
   "outputs": [],
   "source": [
    "del case_steady.ccl.expressions.options['dmfr']\n",
    "del case_steady.ccl.flow[0].monitor_object['dmfr']"
   ]
  },
  {
   "cell_type": "code",
   "execution_count": null,
   "id": "fa8c4c9d-bae0-4a34-b7f8-1d0b150bac0c",
   "metadata": {},
   "outputs": [],
   "source": [
    "if True:\n",
    "    case_steady.start(initial_result_file=None, nproc=2, timeout=120, wait=True)"
   ]
  },
  {
   "cell_type": "markdown",
   "id": "5f5d0f3c-e33b-4eac-b246-61b89b5cbe5a",
   "metadata": {},
   "source": [
    "### Resume a case\n",
    "You can call `.resume()` on your latest result to continue from it. Note, calling `resume` on the latest result file will not take changes in the ccl file into account! Calling it from the `CFXCase` instance however will! You may call `.update_from_ccl()` to be absolutely sure!"
   ]
  },
  {
   "cell_type": "code",
   "execution_count": null,
   "id": "9b19cac4-513e-472d-b4de-5b68d52eb18b",
   "metadata": {},
   "outputs": [],
   "source": [
    "case_steady.update_from_ccl()\n",
    "case_steady.latest.resume(nproc=2)\n",
    "\n",
    "# # or call:\n",
    "# case_steady.resume(nproc=2)"
   ]
  },
  {
   "cell_type": "markdown",
   "id": "8282337a-b08c-4eb6-b17a-49c64c2b87ca",
   "metadata": {
    "tags": []
   },
   "source": [
    "### Stopping a case\n",
    "You can call `.stop()` from your `CFXCase` instance to stop the run(s). This will btw. stop all running cases in the working directory!"
   ]
  },
  {
   "cell_type": "code",
   "execution_count": null,
   "id": "0348fa73-04cf-4f03-b475-1e6d2607c9fa",
   "metadata": {},
   "outputs": [],
   "source": [
    "case_steady.stop()  # touches a file \"stp\" in the *.dir directory if exists"
   ]
  },
  {
   "cell_type": "markdown",
   "id": "d810b3b2-0a50-4dc4-b96d-2c8a85ea9b51",
   "metadata": {},
   "source": [
    "## Monitor Points and Expressions\n",
    "\n",
    "User points are very helpful to analyze the runs\n",
    "\n",
    "### Define an expression:"
   ]
  },
  {
   "cell_type": "code",
   "execution_count": null,
   "id": "81823af9-f7dd-4811-8f6a-24a55618d659",
   "metadata": {
    "tags": []
   },
   "outputs": [],
   "source": [
    "case_steady.ccl.expressions.options['test'] = 'test'"
   ]
  },
  {
   "cell_type": "code",
   "execution_count": null,
   "id": "975e2447-4595-4821-bb71-c8deb781bdaa",
   "metadata": {
    "tags": []
   },
   "outputs": [],
   "source": [
    "del case_steady.ccl.expressions.options['test']\n",
    "del case_steady.ccl.expressions.options['dmfr']  # delete if exists from previous run for the sake of this tutorial"
   ]
  },
  {
   "cell_type": "code",
   "execution_count": null,
   "id": "e2c31c73-6a0d-4d74-8094-27efbed7f1c4",
   "metadata": {},
   "outputs": [],
   "source": [
    "case_steady.ccl.expressions.options['dmfr'] = 'massFlow()@OUTLET-massFlow()@INLET'"
   ]
  },
  {
   "cell_type": "code",
   "execution_count": null,
   "id": "c4e3c7bb-9962-4070-8205-6fcf85ab75b8",
   "metadata": {},
   "outputs": [],
   "source": [
    "case_steady.ccl.expressions.options"
   ]
  },
  {
   "cell_type": "markdown",
   "id": "4ae3fa9a-50ca-4e4d-a966-4e24743cf7d2",
   "metadata": {},
   "source": [
    "### Defining a monitor point:"
   ]
  },
  {
   "cell_type": "code",
   "execution_count": null,
   "id": "6493cf0a-2e35-41fd-944e-252b5758c7e7",
   "metadata": {},
   "outputs": [],
   "source": [
    "from cfdtoolkit.cfx.core import MonitorObject\n",
    "case_steady.ccl.flow[0].monitor_object['dmfr'] = MonitorObject(expression_value='dmfr', coord_frame='Coord 0')\n",
    "case_steady.ccl.dump()"
   ]
  },
  {
   "cell_type": "markdown",
   "id": "b949cca3-9fc7-480f-a5c8-5e64b6227923",
   "metadata": {},
   "source": [
    "Let's continue/resume the run as we have now a new expression set and registered it as a monitor point"
   ]
  },
  {
   "cell_type": "code",
   "execution_count": null,
   "id": "d2234842-14ee-4f71-919f-a13c26c5462b",
   "metadata": {},
   "outputs": [],
   "source": [
    "case_steady.resume(nproc=2)"
   ]
  },
  {
   "cell_type": "markdown",
   "id": "933aa79b-9409-4df6-b78f-182386b0ac8d",
   "metadata": {},
   "source": [
    "### User Points\n",
    "\n",
    "The example case has some user points registered which can be requested by calling the `Monitor` instance of e.g. the lates result file:"
   ]
  },
  {
   "cell_type": "code",
   "execution_count": null,
   "id": "54b40699-a7ac-47de-9ac8-076915a92c92",
   "metadata": {},
   "outputs": [],
   "source": [
    "case_steady.latest"
   ]
  },
  {
   "cell_type": "code",
   "execution_count": null,
   "id": "c3ebb52b-c008-4ef9-8751-b7ea9d157aaf",
   "metadata": {},
   "outputs": [],
   "source": [
    "case_steady.latest.monitor.user_points.keys()"
   ]
  },
  {
   "cell_type": "code",
   "execution_count": null,
   "id": "ce072a03-0d8e-47b2-9cb7-dbc89953d232",
   "metadata": {},
   "outputs": [],
   "source": [
    "case_steady.latest.monitor.user_points['dmfr'].plot()"
   ]
  },
  {
   "cell_type": "code",
   "execution_count": null,
   "id": "da18af17-38a8-4419-bdfd-3b21a70f9e56",
   "metadata": {},
   "outputs": [],
   "source": [
    "#if case_steady.latest:\n",
    "print(len(case_steady.result_files.cfx_res_files))\n",
    "print(case_steady.latest)"
   ]
  },
  {
   "cell_type": "markdown",
   "id": "9449e700-d9c2-4885-bccb-bc57316204c4",
   "metadata": {
    "tags": []
   },
   "source": [
    "## Controll and change case settings\n",
    "\n",
    "The following shows how to set and read various options in your case file."
   ]
  },
  {
   "cell_type": "code",
   "execution_count": null,
   "id": "377a1c87-a05f-468b-b168-45eae9f33237",
   "metadata": {},
   "outputs": [],
   "source": [
    "case_steady.ccl"
   ]
  },
  {
   "cell_type": "code",
   "execution_count": null,
   "id": "6798d1d8-9af6-4396-9ba7-b1df824a86b4",
   "metadata": {},
   "outputs": [],
   "source": [
    "case_steady.ccl.flow[0].domains[0].get_boundary_type('inlet').dump()"
   ]
  },
  {
   "cell_type": "code",
   "execution_count": null,
   "id": "430556b4-0081-4533-baca-2064980eed63",
   "metadata": {},
   "outputs": [],
   "source": [
    "case_steady.ccl.to_ccl('test.ccl')"
   ]
  },
  {
   "cell_type": "code",
   "execution_count": null,
   "id": "4c3e3dc5-0503-4583-b931-7989f4ae524f",
   "metadata": {},
   "outputs": [],
   "source": [
    "#case_steady.import_ccl()"
   ]
  },
  {
   "cell_type": "code",
   "execution_count": null,
   "id": "9b7e31ef-82c9-46f5-bb92-d0cd04460c4c",
   "metadata": {},
   "outputs": [],
   "source": [
    "case_steady.ccl.flow[0].domains[0].get_boundary_type('inlet').dump()"
   ]
  },
  {
   "cell_type": "markdown",
   "id": "2a1c16c2-3fbd-4716-89b5-ced07728f3fb",
   "metadata": {},
   "source": [
    "### Setting a new boundary condition"
   ]
  },
  {
   "cell_type": "code",
   "execution_count": null,
   "id": "1add2c4f-6b6e-44a5-80a8-3d1c6aaa5830",
   "metadata": {},
   "outputs": [],
   "source": [
    "from cfdtoolkit.cfx.boundary_conditions.inlet import NormalSpeed"
   ]
  },
  {
   "cell_type": "code",
   "execution_count": null,
   "id": "7502269b-797a-4eeb-ba33-ad5c8ffa6c67",
   "metadata": {},
   "outputs": [],
   "source": [
    "inlet = case_steady.ccl.flow[0].domains[0].get_boundary_type('inlet')"
   ]
  },
  {
   "cell_type": "code",
   "execution_count": null,
   "id": "8b85e285-9dda-4190-ad76-9858c4c94499",
   "metadata": {},
   "outputs": [],
   "source": [
    "inlet.condition = NormalSpeed(flow_regime='Subsonic', normal_speed=1)"
   ]
  },
  {
   "cell_type": "code",
   "execution_count": null,
   "id": "27166071-f99d-4bed-b051-688a29644d4e",
   "metadata": {},
   "outputs": [],
   "source": [
    "inlet.condition"
   ]
  },
  {
   "cell_type": "code",
   "execution_count": null,
   "id": "064e4632-0ba5-4208-8c26-1f9d45a95962",
   "metadata": {},
   "outputs": [],
   "source": [
    "case_steady.ccl.flow[0].domains[0].get_boundary_type('inlet').dump()"
   ]
  },
  {
   "cell_type": "code",
   "execution_count": null,
   "id": "b7a84373-b920-4d0c-93f3-3bc59a858bb2",
   "metadata": {},
   "outputs": [],
   "source": [
    "case_steady.update()"
   ]
  },
  {
   "cell_type": "code",
   "execution_count": null,
   "id": "06ba5864-177b-4bcd-83ed-853a7bf4478a",
   "metadata": {},
   "outputs": [],
   "source": []
  }
 ],
 "metadata": {
  "kernelspec": {
   "display_name": "Python 3",
   "language": "python",
   "name": "python3"
  },
  "language_info": {
   "codemirror_mode": {
    "name": "ipython",
    "version": 3
   },
   "file_extension": ".py",
   "mimetype": "text/x-python",
   "name": "python",
   "nbconvert_exporter": "python",
   "pygments_lexer": "ipython3",
   "version": "3.8.8"
  }
 },
 "nbformat": 4,
 "nbformat_minor": 5
}
