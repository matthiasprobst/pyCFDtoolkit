{
 "cells": [
  {
   "cell_type": "code",
   "execution_count": null,
   "id": "6c874722-b32d-466d-a96d-8bae516dbca7",
   "metadata": {},
   "outputs": [],
   "source": [
    "from cfdtoolkit.cfx.case import CFXCase\n",
    "from cfdtoolkit import set_loglevel\n",
    "set_loglevel('INFO')"
   ]
  },
  {
   "cell_type": "markdown",
   "id": "343a8347-98c1-4236-b882-ee06872a16f6",
   "metadata": {
    "tags": []
   },
   "source": [
    "## Transient cases\n",
    "\n",
    "Transient cases are not treated differently than steady cases. You just have more options to set or to manipulate. How to controll the settings is shown later"
   ]
  },
  {
   "cell_type": "code",
   "execution_count": null,
   "id": "508c70cd-c7e6-43a5-9f7a-5ed5a96159eb",
   "metadata": {},
   "outputs": [],
   "source": [
    "case_transient = CFXCase('../../testdata/cylinderflow/transient/cyl_transient_laminar.cfx')"
   ]
  },
  {
   "cell_type": "code",
   "execution_count": null,
   "id": "b9592129-bcbe-4519-bd6a-15145e0964b5",
   "metadata": {},
   "outputs": [],
   "source": [
    "case_transient.filename"
   ]
  },
  {
   "cell_type": "markdown",
   "id": "baefc5a7-ed4e-4d2a-a458-8a583d4caed1",
   "metadata": {},
   "source": [
    "Set max iterations *per timestep* (we need the def and ccl file first!)"
   ]
  },
  {
   "cell_type": "code",
   "execution_count": null,
   "id": "f0058c4f-5cca-41a1-a0aa-0165b33a1089",
   "metadata": {},
   "outputs": [],
   "source": [
    "def_file = case_transient.pre.write_def()\n",
    "ccl = case_transient.solve.write_ccl()\n",
    "ccl"
   ]
  },
  {
   "cell_type": "code",
   "execution_count": null,
   "id": "667e0fdb-d109-4f81-94b3-212d06ea8f36",
   "metadata": {},
   "outputs": [],
   "source": [
    "ccl.flow[0].max_iterations = 20\n",
    "ccl.flow[0].max_iterations"
   ]
  },
  {
   "cell_type": "markdown",
   "id": "859946aa-d682-4ae2-9a92-6118cc4c4b13",
   "metadata": {},
   "source": [
    "Set number of timesteps:"
   ]
  },
  {
   "cell_type": "code",
   "execution_count": null,
   "id": "ad02af1a-79d8-497c-8607-aeffc52a3e65",
   "metadata": {},
   "outputs": [],
   "source": [
    "ccl.flow[0].time_steps = 1\n",
    "ccl.flow[0].time_steps"
   ]
  },
  {
   "cell_type": "code",
   "execution_count": null,
   "id": "00dd25b9-3acb-4d84-b3cb-b296c00b8bd2",
   "metadata": {},
   "outputs": [],
   "source": [
    "ccl.flow[0].total_time = 600\n",
    "ccl.flow[0].total_time"
   ]
  },
  {
   "cell_type": "code",
   "execution_count": null,
   "id": "4cc96385-ec49-4481-8a27-3a58d5ee67f6",
   "metadata": {},
   "outputs": [],
   "source": [
    "ccl.flow[0].max_number_of_timesteps = 100\n",
    "ccl.flow[0].max_number_of_timesteps"
   ]
  },
  {
   "cell_type": "code",
   "execution_count": null,
   "id": "1108fcbd-c72c-4d2f-b5ed-a70e5407706c",
   "metadata": {},
   "outputs": [],
   "source": [
    "ccl.flow[0].max_number_of_timesteps"
   ]
  },
  {
   "cell_type": "code",
   "execution_count": null,
   "id": "a5a00e81-e460-4337-a750-38e11c390285",
   "metadata": {},
   "outputs": [],
   "source": [
    "case_transient.pre.from_h5ccl(ccl.filename)\n",
    "case_transient.pre.write_def()"
   ]
  },
  {
   "cell_type": "code",
   "execution_count": null,
   "id": "3929fdcf-1936-4848-8349-57f3308ad58c",
   "metadata": {},
   "outputs": [],
   "source": [
    "case_transient.solve.run(ini_filename='../../testdata/cylinderflow/steady_state/cyl_steadystate_laminar_003.res', nproc=2)"
   ]
  },
  {
   "cell_type": "code",
   "execution_count": null,
   "id": "c65ca09e-f317-4ba4-b502-e14a9915bc71",
   "metadata": {},
   "outputs": [],
   "source": [
    "case_transient.reset()"
   ]
  },
  {
   "cell_type": "code",
   "execution_count": null,
   "id": "ba976229-f054-482a-946e-0026ca49175c",
   "metadata": {},
   "outputs": [],
   "source": []
  }
 ],
 "metadata": {
  "kernelspec": {
   "display_name": "Python 3 (ipykernel)",
   "language": "python",
   "name": "python3"
  },
  "language_info": {
   "codemirror_mode": {
    "name": "ipython",
    "version": 3
   },
   "file_extension": ".py",
   "mimetype": "text/x-python",
   "name": "python",
   "nbconvert_exporter": "python",
   "pygments_lexer": "ipython3",
   "version": "3.8.13"
  }
 },
 "nbformat": 4,
 "nbformat_minor": 5
}
