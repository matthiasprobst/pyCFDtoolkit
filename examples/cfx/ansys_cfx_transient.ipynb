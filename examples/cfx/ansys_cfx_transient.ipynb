{
 "cells": [
  {
   "cell_type": "code",
   "execution_count": null,
   "id": "6c874722-b32d-466d-a96d-8bae516dbca7",
   "metadata": {},
   "outputs": [],
   "source": [
    "from cfdtoolkit.cfx.case import CFXCase\n",
    "from cfdtoolkit import set_loglevel\n",
    "set_loglevel('INFO')"
   ]
  },
  {
   "cell_type": "markdown",
   "id": "343a8347-98c1-4236-b882-ee06872a16f6",
   "metadata": {
    "tags": []
   },
   "source": [
    "## Transient cases\n",
    "\n",
    "Transient cases are not treated differently than steady cases. You just have more options to set or to manipulate. How to controll the settings is shown later"
   ]
  },
  {
   "cell_type": "code",
   "execution_count": null,
   "id": "508c70cd-c7e6-43a5-9f7a-5ed5a96159eb",
   "metadata": {},
   "outputs": [],
   "source": [
    "case_transient = CFXCase('../../testdata/cylinderflow/transient/cyl_transient_laminar.cfx')"
   ]
  },
  {
   "cell_type": "code",
   "execution_count": null,
   "id": "b9592129-bcbe-4519-bd6a-15145e0964b5",
   "metadata": {},
   "outputs": [],
   "source": [
    "case_transient.filename"
   ]
  },
  {
   "cell_type": "markdown",
   "id": "baefc5a7-ed4e-4d2a-a458-8a583d4caed1",
   "metadata": {},
   "source": [
    "Set max iterations *per timestep*:"
   ]
  },
  {
   "cell_type": "code",
   "execution_count": null,
   "id": "667e0fdb-d109-4f81-94b3-212d06ea8f36",
   "metadata": {},
   "outputs": [],
   "source": [
    "case_transient.ccl.flow[0].max_iterations = 20\n",
    "case_transient.ccl.flow[0].max_iterations"
   ]
  },
  {
   "cell_type": "markdown",
   "id": "859946aa-d682-4ae2-9a92-6118cc4c4b13",
   "metadata": {},
   "source": [
    "Set number of timesteps:"
   ]
  },
  {
   "cell_type": "code",
   "execution_count": null,
   "id": "ad02af1a-79d8-497c-8607-aeffc52a3e65",
   "metadata": {},
   "outputs": [],
   "source": [
    "case_transient.ccl.flow[0].time_steps = 1\n",
    "case_transient.ccl.flow[0].time_steps"
   ]
  },
  {
   "cell_type": "code",
   "execution_count": null,
   "id": "00dd25b9-3acb-4d84-b3cb-b296c00b8bd2",
   "metadata": {},
   "outputs": [],
   "source": [
    "case_transient.ccl.flow[0].total_time = 600\n",
    "case_transient.ccl.flow[0].total_time"
   ]
  },
  {
   "cell_type": "code",
   "execution_count": null,
   "id": "4cc96385-ec49-4481-8a27-3a58d5ee67f6",
   "metadata": {},
   "outputs": [],
   "source": [
    "case_transient.ccl.flow[0].max_number_of_timesteps = 100\n",
    "case_transient.ccl.flow[0].max_number_of_timesteps"
   ]
  },
  {
   "cell_type": "code",
   "execution_count": null,
   "id": "d88a6cf8-9527-4dd2-94d3-e9aa19ceed64",
   "metadata": {},
   "outputs": [],
   "source": [
    "case_transient.start(initial_result_file='../../testdata/cylinderflow/steady_state/cyl_steadystate_laminar_003.res', nproc=2)"
   ]
  },
  {
   "cell_type": "code",
   "execution_count": null,
   "id": "5adbc3de-07ff-4fd5-8b19-1d6c624f10f5",
   "metadata": {},
   "outputs": [],
   "source": []
  }
 ],
 "metadata": {
  "kernelspec": {
   "display_name": "Python 3 (ipykernel)",
   "language": "python",
   "name": "python3"
  },
  "language_info": {
   "codemirror_mode": {
    "name": "ipython",
    "version": 3
   },
   "file_extension": ".py",
   "mimetype": "text/x-python",
   "name": "python",
   "nbconvert_exporter": "python",
   "pygments_lexer": "ipython3",
   "version": "3.8.13"
  }
 },
 "nbformat": 4,
 "nbformat_minor": 5
}
